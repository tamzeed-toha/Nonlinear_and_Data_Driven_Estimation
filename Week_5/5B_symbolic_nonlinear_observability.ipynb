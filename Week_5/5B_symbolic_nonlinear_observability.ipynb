{
 "cells": [
  {
   "cell_type": "markdown",
   "metadata": {},
   "source": [
    "# Symbolic nonlinear observability for monocular camera example"
   ]
  },
  {
   "cell_type": "code",
   "execution_count": 14,
   "metadata": {},
   "outputs": [],
   "source": [
    "import numpy as np\n",
    "import sympy as sp"
   ]
  },
  {
   "cell_type": "code",
   "execution_count": 15,
   "metadata": {},
   "outputs": [],
   "source": [
    "# Import functions directly from github\n",
    "# Important: note that we use raw.githubusercontent.com, not github.com\n",
    "\n",
    "import requests\n",
    "url = 'https://raw.githubusercontent.com/florisvb/Nonlinear_and_Data_Driven_Estimation/main/Utility/symbolic_derivatives.py'\n",
    "r = requests.get(url)\n",
    "\n",
    "# Store the file to the colab working directory\n",
    "with open('symbolic_derivatives.py', 'w') as f:\n",
    "    f.write(r.text)\n",
    "\n",
    "# import the function we want from that file\n",
    "import symbolic_derivatives"
   ]
  },
  {
   "cell_type": "markdown",
   "metadata": {},
   "source": [
    "# Define states"
   ]
  },
  {
   "cell_type": "code",
   "execution_count": 4,
   "metadata": {},
   "outputs": [],
   "source": [
    "g, d = sp.symbols(['g', 'd'])\n",
    "x = [g, d]"
   ]
  },
  {
   "cell_type": "markdown",
   "metadata": {},
   "source": [
    "# Define dynamics"
   ]
  },
  {
   "cell_type": "code",
   "execution_count": 16,
   "metadata": {},
   "outputs": [],
   "source": [
    "f_0 = sp.Matrix([g,\n",
    "                 d])\n",
    "f_1 = sp.Matrix([1,\n",
    "                 0])"
   ]
  },
  {
   "cell_type": "markdown",
   "metadata": {},
   "source": [
    "# Define measurements"
   ]
  },
  {
   "cell_type": "code",
   "execution_count": 17,
   "metadata": {},
   "outputs": [],
   "source": [
    "h = sp.Matrix([g/d])"
   ]
  },
  {
   "cell_type": "markdown",
   "metadata": {},
   "source": [
    "# Calculate each term in G"
   ]
  },
  {
   "cell_type": "code",
   "execution_count": 20,
   "metadata": {},
   "outputs": [],
   "source": [
    "L_f0_h = symbolic_derivatives.directional_derivative(h, x, f_0)\n",
    "L_f1_h = symbolic_derivatives.directional_derivative(h, x, f_1)\n",
    "L_f1_f1_h = symbolic_derivatives.directional_derivative(L_f1_h, x, f_1)"
   ]
  },
  {
   "cell_type": "markdown",
   "metadata": {},
   "source": [
    "# Assemble G, take Jacobian"
   ]
  },
  {
   "cell_type": "code",
   "execution_count": 30,
   "metadata": {
    "scrolled": true
   },
   "outputs": [],
   "source": [
    "G = sp.Matrix([h, L_f0_h, L_f1_h, L_f1_f1_h])"
   ]
  },
  {
   "cell_type": "code",
   "execution_count": 31,
   "metadata": {},
   "outputs": [
    {
     "data": {
      "text/latex": [
       "$\\displaystyle \\left[\\begin{matrix}\\frac{1}{d} & - \\frac{g}{d^{2}}\\\\0 & 0\\\\0 & - \\frac{1}{d^{2}}\\\\0 & 0\\end{matrix}\\right]$"
      ],
      "text/plain": [
       "Matrix([\n",
       "[1/d, -g/d**2],\n",
       "[  0,       0],\n",
       "[  0, -1/d**2],\n",
       "[  0,       0]])"
      ]
     },
     "execution_count": 31,
     "metadata": {},
     "output_type": "execute_result"
    }
   ],
   "source": [
    "G.jacobian(x)"
   ]
  },
  {
   "cell_type": "markdown",
   "metadata": {},
   "source": [
    "# Plug in x0"
   ]
  },
  {
   "cell_type": "code",
   "execution_count": 32,
   "metadata": {},
   "outputs": [],
   "source": [
    "x0 = {g: 1, d: 2}"
   ]
  },
  {
   "cell_type": "code",
   "execution_count": 33,
   "metadata": {},
   "outputs": [
    {
     "data": {
      "text/latex": [
       "$\\displaystyle \\left[\\begin{matrix}\\frac{1}{2} & - \\frac{1}{4}\\\\0 & 0\\\\0 & - \\frac{1}{4}\\\\0 & 0\\end{matrix}\\right]$"
      ],
      "text/plain": [
       "Matrix([\n",
       "[1/2, -1/4],\n",
       "[  0,    0],\n",
       "[  0, -1/4],\n",
       "[  0,    0]])"
      ]
     },
     "execution_count": 33,
     "metadata": {},
     "output_type": "execute_result"
    }
   ],
   "source": [
    "G.jacobian(x).subs(x0)"
   ]
  },
  {
   "cell_type": "markdown",
   "metadata": {},
   "source": [
    "# Shortcut function to get G:"
   ]
  },
  {
   "cell_type": "markdown",
   "metadata": {},
   "source": [
    "### First derivatives"
   ]
  },
  {
   "cell_type": "code",
   "execution_count": 37,
   "metadata": {},
   "outputs": [
    {
     "data": {
      "text/plain": [
       "[Matrix([[g/d]]), Matrix([[0]]), Matrix([[1/d]])]"
      ]
     },
     "execution_count": 37,
     "metadata": {},
     "output_type": "execute_result"
    }
   ],
   "source": [
    "G1 =  symbolic_derivatives.get_bigO( h, \n",
    "                                    x, \n",
    "                                    [f_0, \n",
    "                                     f_1], \n",
    "                                   )\n",
    "G1"
   ]
  },
  {
   "cell_type": "markdown",
   "metadata": {},
   "source": [
    "### Second derivatives"
   ]
  },
  {
   "cell_type": "code",
   "execution_count": 43,
   "metadata": {},
   "outputs": [
    {
     "data": {
      "text/plain": [
       "[Matrix([\n",
       " [g/d],\n",
       " [  0],\n",
       " [1/d]]),\n",
       " Matrix([\n",
       " [   0],\n",
       " [   0],\n",
       " [-1/d]]),\n",
       " Matrix([\n",
       " [1/d],\n",
       " [  0],\n",
       " [  0]])]"
      ]
     },
     "execution_count": 43,
     "metadata": {},
     "output_type": "execute_result"
    }
   ],
   "source": [
    "G2 =  symbolic_derivatives.get_bigO( sp.Matrix.vstack(*G1), \n",
    "                                    x, \n",
    "                                    [f_0, \n",
    "                                     f_1], \n",
    "                                   )\n",
    "G2"
   ]
  },
  {
   "cell_type": "code",
   "execution_count": 44,
   "metadata": {},
   "outputs": [
    {
     "data": {
      "text/latex": [
       "$\\displaystyle \\left[\\begin{matrix}\\frac{g}{d}\\\\0\\\\\\frac{1}{d}\\\\\\frac{g}{d}\\\\0\\\\\\frac{1}{d}\\\\0\\\\0\\\\- \\frac{1}{d}\\\\\\frac{1}{d}\\\\0\\\\0\\end{matrix}\\right]$"
      ],
      "text/plain": [
       "Matrix([\n",
       "[ g/d],\n",
       "[   0],\n",
       "[ 1/d],\n",
       "[ g/d],\n",
       "[   0],\n",
       "[ 1/d],\n",
       "[   0],\n",
       "[   0],\n",
       "[-1/d],\n",
       "[ 1/d],\n",
       "[   0],\n",
       "[   0]])"
      ]
     },
     "execution_count": 44,
     "metadata": {},
     "output_type": "execute_result"
    }
   ],
   "source": [
    "G = sp.Matrix.vstack(*G1, *G2)\n",
    "G"
   ]
  },
  {
   "cell_type": "code",
   "execution_count": null,
   "metadata": {},
   "outputs": [],
   "source": []
  }
 ],
 "metadata": {
  "kernelspec": {
   "display_name": "PY38",
   "language": "python",
   "name": "py38"
  },
  "language_info": {
   "codemirror_mode": {
    "name": "ipython",
    "version": 3
   },
   "file_extension": ".py",
   "mimetype": "text/x-python",
   "name": "python",
   "nbconvert_exporter": "python",
   "pygments_lexer": "ipython3",
   "version": "3.8.6"
  }
 },
 "nbformat": 4,
 "nbformat_minor": 2
}
