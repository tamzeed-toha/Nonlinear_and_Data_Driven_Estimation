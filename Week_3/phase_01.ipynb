{
 "cells": [
  {
   "cell_type": "code",
   "execution_count": 7,
   "metadata": {},
   "outputs": [],
   "source": [
    "import numpy as np\n",
    "import matplotlib.pyplot as plt\n",
    "from scipy.integrate import odeint\n",
    "import sys\n",
    "import scipy"
   ]
  },
  {
   "cell_type": "markdown",
   "metadata": {},
   "source": [
    "the system: \n",
    "\n",
    "$$\\dot{x} = Ax + Bu$$\n",
    "\n",
    "where $x$ is the state vector: $$x = \\begin{bmatrix} x \\\\ \\dot{x} \\\\ z \\\\ \\dot{z} \\\\ \\theta \\\\ \\dot{\\theta} \\end{bmatrix}$$\n",
    "\n",
    "dynamic equations:\n",
    "$$\\ddot{x} = -\\frac{1}{m} F * \\sin(\\theta) $$\n",
    "$$\\ddot{z} = \\frac{1}{m} F * \\cos(\\theta) - g$$\n",
    "$$\\ddot{\\theta} = \\frac{1}{I} \\tau$$\n",
    "\n",
    "our goal is to find $B$ matrix. \n",
    "\n",
    "Lets try a static case where $\\frac{1}{\\tau}=k$ is unknown constant. we can add that to the state vector.\n",
    "\n",
    "so. state vector, $x$ becomes: $$x = \\begin{bmatrix} x \\\\ \\dot{x} \\\\ z \\\\ \\dot{z} \\\\ \\theta \\\\ \\dot{\\theta} \\\\ k \\end{bmatrix}$$\n",
    "\n"
   ]
  },
  {
   "cell_type": "markdown",
   "metadata": {},
   "source": [
    "# constants"
   ]
  },
  {
   "cell_type": "code",
   "execution_count": 4,
   "metadata": {},
   "outputs": [],
   "source": [
    "# System Parameters\n",
    "m = 0.5 # mass\n",
    "l = 0.2 # distance from rotor to COM\n",
    "I = 2/5*m*l**2 # Moment of inertia (Iyy) -- assuming drone is a sphere (it is not)\n",
    "g = 9.81 # gravity constant\n",
    "\n",
    "# Control Parameters\n",
    "tau_k_theta = 10 # torque control to stabilize theta\n",
    "tau_k_thetadot = 20 # torque control to provide thetadot damping\n",
    "tau_k_x = 0.01 # torque control to control x position\n",
    "tau_k_xdot = 0.2 # torque control to provide xdot damping\n",
    "F_k_z = 1000 # Force control to control z position\n",
    "F_k_zdot = 10000 # Force control to control z position\n",
    "\n",
    "F0 = m*g\n",
    "\n",
    "# Noise for measurements: (standard deviations)\n",
    "v = [0.01, 0.001, 0.2, 0.2]"
   ]
  },
  {
   "cell_type": "markdown",
   "metadata": {},
   "source": [
    "# Desired trajectory"
   ]
  },
  {
   "cell_type": "code",
   "execution_count": 5,
   "metadata": {},
   "outputs": [],
   "source": [
    "def desired_trajectory(t):\n",
    "    theta_des = 0*np.ones_like(t)\n",
    "    z_des = 1*np.ones_like(t)\n",
    "    x_des = np.sin(0.01*t)\n",
    "    return theta_des, x_des, z_des"
   ]
  },
  {
   "cell_type": "markdown",
   "metadata": {},
   "source": [
    "# Nonlinear continuous time dynamics with control"
   ]
  },
  {
   "cell_type": "code",
   "execution_count": 6,
   "metadata": {},
   "outputs": [],
   "source": [
    "def control(X, t):\n",
    "    theta, thetadot, x, xdot, z, zdot = np.ravel(X)\n",
    "    \n",
    "    # desired trajectory\n",
    "    theta_des, x_des, z_des = desired_trajectory(t)\n",
    "    \n",
    "    # error\n",
    "    x_err = x_des - x\n",
    "    z_err = z_des - z\n",
    "    \n",
    "    # control\n",
    "    tau = -(tau_k_x*x_err - tau_k_xdot*xdot)  + (tau_k_theta*(-theta) - tau_k_thetadot*thetadot)\n",
    "    F = (F_k_z*z_err - F_k_zdot*zdot)\n",
    "    \n",
    "    return F, tau"
   ]
  },
  {
   "cell_type": "code",
   "execution_count": 7,
   "metadata": {},
   "outputs": [],
   "source": [
    "def f(X, t):\n",
    "    theta, thetadot, x, xdot, z, zdot = X\n",
    "    \n",
    "    # control\n",
    "    F, tau = control(X, t)\n",
    "    \n",
    "    # dynamics\n",
    "    d_theta = thetadot\n",
    "    d_thetadot = tau/I\n",
    "    d_x = xdot\n",
    "    d_xdot = -F*np.sin(theta)/m\n",
    "    d_z = zdot\n",
    "    d_zdot = (F*np.cos(theta)-m*g)/m\n",
    "    \n",
    "    d_x = [d_theta, d_thetadot, d_x, d_xdot, d_z, d_zdot]\n",
    "    \n",
    "    return d_x"
   ]
  },
  {
   "cell_type": "markdown",
   "metadata": {},
   "source": [
    "# Run simulation"
   ]
  },
  {
   "cell_type": "code",
   "execution_count": 8,
   "metadata": {},
   "outputs": [],
   "source": [
    "t = np.arange(0, 1000, 0.1)\n",
    "\n",
    "x0 = [(np.random.random()-0.5)*1e-3 for i in range(6)]\n",
    "\n",
    "result = odeint(f, x0, t)\n",
    "X = result.T"
   ]
  },
  {
   "cell_type": "code",
   "execution_count": 19,
   "metadata": {},
   "outputs": [
    {
     "data": {
      "text/plain": [
       "True"
      ]
     },
     "execution_count": 19,
     "metadata": {},
     "output_type": "execute_result"
    }
   ],
   "source": [
    "a = np.eye(9)\n",
    "a[6:,6:] = 0\n",
    "\n",
    "# np.linalg.matrix_power(a, 20)\n",
    "c = np.zeros((6,9))\n",
    "c[:6,:6] = np.eye(6)\n",
    "c@a\n",
    "\n",
    "np.linalg.matrix_rank(c@a) == np.linalg.matrix_rank(a)"
   ]
  },
  {
   "cell_type": "code",
   "execution_count": null,
   "metadata": {},
   "outputs": [],
   "source": []
  }
 ],
 "metadata": {
  "kernelspec": {
   "display_name": "Python 3 (ipykernel)",
   "language": "python",
   "name": "python3"
  },
  "language_info": {
   "codemirror_mode": {
    "name": "ipython",
    "version": 3
   },
   "file_extension": ".py",
   "mimetype": "text/x-python",
   "name": "python",
   "nbconvert_exporter": "python",
   "pygments_lexer": "ipython3",
   "version": "3.10.12"
  }
 },
 "nbformat": 4,
 "nbformat_minor": 4
}
