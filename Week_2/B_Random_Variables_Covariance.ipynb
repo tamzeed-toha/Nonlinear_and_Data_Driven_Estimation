{
 "cells": [
  {
   "cell_type": "code",
   "execution_count": 2,
   "metadata": {},
   "outputs": [],
   "source": [
    "import numpy as np\n",
    "import scipy.stats\n",
    "import matplotlib.pyplot as plt"
   ]
  },
  {
   "cell_type": "markdown",
   "metadata": {},
   "source": [
    "# Random Variables\n",
    "\n",
    "Let $v$ be a random variable.\n",
    "\n",
    "Expected value $E[v]$ is the mean: \n",
    "* $E[v] = \\bar{v} = \\frac{1}{N}\\sum_{1}^{N}v_i$\n",
    "\n",
    "Expected value of a vector:\n",
    "* $E[\\mathbf{v}] = \\mathbf{\\bar{v}} = [\\bar{x}_1,...,\\bar{x}_n]^\\top$\n",
    "\n",
    "Variance is $E[(v-E[v])^2]$:\n",
    "* $\\sigma^2=E[(v-\\bar{v})^2]=\\frac{1}{N}\\sum_{1}^{N}(v_i-\\bar{v})^2$\n",
    "\n",
    "Standard deviation is the square root of variance:\n",
    "* $\\sigma$\n",
    "\n",
    "Covariance matrix is $E\\big[ (\\mathbf{x}-E[\\mathbf{x}])(\\mathbf{x}-E[\\mathbf{x}])^{\\top} \\big]$, size $N \\times N$:\n",
    "* $R_{ij}=\\frac{1}{N}\\sum_{k=1}^{N}(x_{ik}-\\bar{x}_i)(x_{jk}-\\bar{x}_j)$\n",
    "* $R = \\mathbf{v} \\mathbf{v}^{\\top}$"
   ]
  },
  {
   "cell_type": "code",
   "execution_count": 4,
   "metadata": {},
   "outputs": [],
   "source": [
    "t = np.linspace(0, 6, 2000)\n",
    "\n",
    "noise_mean = 0\n",
    "noise_std_1 = 90\n",
    "v = np.column_stack(np.random.normal(noise_mean, noise_std_1, len(t))).T"
   ]
  },
  {
   "cell_type": "code",
   "execution_count": 5,
   "metadata": {},
   "outputs": [],
   "source": [
    "N = scipy.stats.norm(noise_mean, noise_std_1)\n",
    "xr = np.linspace(-300, 300, 1000)\n",
    "pdf = N.pdf(xr)"
   ]
  },
  {
   "cell_type": "markdown",
   "metadata": {},
   "source": [
    "# Histogram"
   ]
  },
  {
   "cell_type": "code",
   "execution_count": 6,
   "metadata": {},
   "outputs": [
    {
     "data": {
      "text/plain": [
       "[<matplotlib.lines.Line2D at 0x7e3b00f48d00>]"
      ]
     },
     "execution_count": 6,
     "metadata": {},
     "output_type": "execute_result"
    },
    {
     "data": {
      "image/png": "[encoded data removed]",
      "text/plain": [
       "<Figure size 640x480 with 1 Axes>"
      ]
     },
     "metadata": {},
     "output_type": "display_data"
    }
   ],
   "source": [
    "plt.hist(v, density=True)\n",
    "plt.plot(xr, pdf, color='red')"
   ]
  },
  {
   "cell_type": "markdown",
   "metadata": {},
   "source": [
    "# Covariance matrix"
   ]
  },
  {
   "cell_type": "code",
   "execution_count": 7,
   "metadata": {},
   "outputs": [
    {
     "name": "stdout",
     "output_type": "stream",
     "text": [
      "[[13256.56385468 11955.26181046  9684.73763564  4931.72554445]\n",
      " [11955.26181046 34220.50840378 -4834.07922756  8055.08745224]\n",
      " [ 9684.73763564 -4834.07922756 69708.10462587 22883.5996991 ]\n",
      " [ 4931.72554445  8055.08745224 22883.5996991  14403.6096458 ]]\n"
     ]
    }
   ],
   "source": [
    "v = np.column_stack(np.random.normal(noise_mean, noise_std_1, (4,4))).T\n",
    "print(v@v.T)"
   ]
  },
  {
   "cell_type": "code",
   "execution_count": 12,
   "metadata": {},
   "outputs": [],
   "source": [
    "R = []\n",
    "\n",
    "for i in range(100000):\n",
    "    v = np.column_stack(np.random.normal(noise_mean, noise_std_1, (4,4))).T\n",
    "    Ri = v@v.T\n",
    "    R.append(Ri)"
   ]
  },
  {
   "cell_type": "code",
   "execution_count": 13,
   "metadata": {},
   "outputs": [],
   "source": [
    "Rstack = np.dstack(R)"
   ]
  },
  {
   "cell_type": "code",
   "execution_count": 14,
   "metadata": {},
   "outputs": [
    {
     "name": "stdout",
     "output_type": "stream",
     "text": [
      "[[ 3.23621691e+04 -2.78007575e+01 -5.47787410e+01 -5.24452896e+01]\n",
      " [-2.78007575e+01  3.23728660e+04 -5.40516880e+01  8.56739592e+01]\n",
      " [-5.47787410e+01 -5.40516880e+01  3.23862808e+04 -3.07700684e+01]\n",
      " [-5.24452896e+01  8.56739592e+01 -3.07700684e+01  3.23153672e+04]]\n"
     ]
    }
   ],
   "source": [
    "print( np.mean(Rstack, 2) )"
   ]
  },
  {
   "cell_type": "code",
   "execution_count": 11,
   "metadata": {},
   "outputs": [
    {
     "name": "stdout",
     "output_type": "stream",
     "text": [
      "[[8100.    0.    0.    0.]\n",
      " [   0. 8100.    0.    0.]\n",
      " [   0.    0. 8100.    0.]\n",
      " [   0.    0.    0. 8100.]]\n"
     ]
    }
   ],
   "source": [
    "print( noise_std_1**2*np.eye(4) )"
   ]
  },
  {
   "cell_type": "code",
   "execution_count": null,
   "metadata": {},
   "outputs": [],
   "source": []
  }
 ],
 "metadata": {
  "kernelspec": {
   "display_name": "Python 3",
   "language": "python",
   "name": "python3"
  },
  "language_info": {
   "codemirror_mode": {
    "name": "ipython",
    "version": 3
   },
   "file_extension": ".py",
   "mimetype": "text/x-python",
   "name": "python",
   "nbconvert_exporter": "python",
   "pygments_lexer": "ipython3",
   "version": "3.10.12"
  }
 },
 "nbformat": 4,
 "nbformat_minor": 2
}
