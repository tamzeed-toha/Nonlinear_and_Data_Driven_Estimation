{
<<<<<<< HEAD
 "cells": [
  {
   "cell_type": "markdown",
   "metadata": {},
   "source": [
    "# Symbolic nonlinear observability for monocular camera example"
   ]
  },
  {
   "cell_type": "code",
   "execution_count": 4,
   "metadata": {},
   "outputs": [],
   "source": [
    "import numpy as np\n",
    "import sympy as sp\n",
    "import sys\n",
    "sys.path.append('../Utility')\n",
    "import symbolic_derivatives"
   ]
  },
  {
   "cell_type": "code",
   "execution_count": 5,
   "metadata": {},
   "outputs": [],
   "source": [
    "# Import functions directly from github\n",
    "# Important: note that we use raw.githubusercontent.com, not github.com\n",
    "\n",
    "# import requests\n",
    "# url = 'https://raw.githubusercontent.com/florisvb/Nonlinear_and_Data_Driven_Estimation/main/Utility/symbolic_derivatives.py'\n",
    "# r = requests.get(url)\n",
    "\n",
    "# # Store the file to the colab working directory\n",
    "# with open('symbolic_derivatives.py', 'w') as f:\n",
    "#     f.write(r.text)\n",
    "\n",
    "# import the function we want from that file\n",
    "# import symbolic_derivatives"
   ]
  },
  {
   "cell_type": "markdown",
   "metadata": {},
   "source": [
    "# Define states"
   ]
  },
  {
   "cell_type": "code",
   "execution_count": 6,
   "metadata": {},
   "outputs": [],
   "source": [
    "g, d = sp.symbols(['g', 'd'])\n",
    "x = [g, d]"
   ]
  },
  {
   "cell_type": "markdown",
   "metadata": {},
   "source": [
    "# Define dynamics"
   ]
  },
  {
   "cell_type": "code",
   "execution_count": 8,
   "metadata": {},
   "outputs": [],
   "source": [
    "f_0 = sp.Matrix([0,\n",
    "                 0])\n",
    "f_1 = sp.Matrix([1,\n",
    "                 0])"
   ]
  },
  {
   "cell_type": "markdown",
   "metadata": {},
   "source": [
    "# Define measurements"
   ]
  },
  {
   "cell_type": "code",
   "execution_count": 9,
   "metadata": {},
   "outputs": [],
   "source": [
    "h = sp.Matrix([g/d])"
   ]
  },
  {
   "cell_type": "markdown",
   "metadata": {},
   "source": [
    "# Calculate each term in G"
   ]
  },
  {
   "cell_type": "code",
   "execution_count": 10,
   "metadata": {},
   "outputs": [],
   "source": [
    "L_f0_h = symbolic_derivatives.directional_derivative(h, x, f_0)\n",
    "L_f1_h = symbolic_derivatives.directional_derivative(h, x, f_1)\n",
    "L_f1_f1_h = symbolic_derivatives.directional_derivative(L_f1_h, x, f_1)"
   ]
  },
  {
   "cell_type": "markdown",
   "metadata": {},
   "source": [
    "# Assemble G, take Jacobian"
   ]
  },
  {
   "cell_type": "code",
   "execution_count": 11,
   "metadata": {
    "scrolled": true
   },
   "outputs": [],
   "source": [
    "G = sp.Matrix([h, L_f0_h, L_f1_h, L_f1_f1_h])"
   ]
  },
  {
   "cell_type": "code",
   "execution_count": 12,
   "metadata": {},
   "outputs": [
=======
  "cells": [
>>>>>>> 6575cbff4ceda6ad8851a08fd7cdb51a5a14e433
    {
      "cell_type": "markdown",
      "metadata": {
        "id": "bglPttkiWXRA"
      },
      "source": [
        "# Symbolic nonlinear observability for monocular camera example"
      ]
    },
    {
      "cell_type": "code",
      "execution_count": 1,
      "metadata": {
        "id": "IkancjAOWXRA"
      },
      "outputs": [],
      "source": [
        "import numpy as np\n",
        "import sympy as sp"
      ]
    },
    {
      "cell_type": "code",
      "execution_count": 2,
      "metadata": {
        "id": "2UBK5zzMWXRB"
      },
      "outputs": [],
      "source": [
        "# Import functions directly from github\n",
        "# Important: note that we use raw.githubusercontent.com, not github.com\n",
        "\n",
        "import requests\n",
        "url = 'https://raw.githubusercontent.com/florisvb/Nonlinear_and_Data_Driven_Estimation/main/Utility/symbolic_derivatives.py'\n",
        "r = requests.get(url)\n",
        "\n",
        "# Store the file to the colab working directory\n",
        "with open('symbolic_derivatives.py', 'w') as f:\n",
        "    f.write(r.text)\n",
        "\n",
        "# import the function we want from that file\n",
        "import symbolic_derivatives"
      ]
    },
    {
      "cell_type": "markdown",
      "metadata": {
        "id": "Pt25BkHpWXRB"
      },
      "source": [
        "# Define states"
      ]
    },
    {
      "cell_type": "code",
      "execution_count": 3,
      "metadata": {
        "id": "HDy84Qd-WXRB"
      },
      "outputs": [],
      "source": [
        "g, d = sp.symbols(['g', 'd'])\n",
        "x = [g, d]"
      ]
    },
    {
      "cell_type": "markdown",
      "metadata": {
        "id": "do-oznoLWXRB"
      },
      "source": [
        "# Define dynamics"
      ]
    },
    {
      "cell_type": "code",
      "execution_count": 4,
      "metadata": {
        "id": "Rab_uIolWXRB"
      },
      "outputs": [],
      "source": [
        "f_0 = sp.Matrix([0,\n",
        "                 0])\n",
        "f_1 = sp.Matrix([1,\n",
        "                 0])"
      ]
    },
    {
      "cell_type": "markdown",
      "metadata": {
        "id": "j9ZSeLxHWXRB"
      },
      "source": [
        "# Define measurements"
      ]
    },
    {
      "cell_type": "code",
      "execution_count": 5,
      "metadata": {
        "id": "2Pfy5vtBWXRB"
      },
      "outputs": [],
      "source": [
        "h = sp.Matrix([g/d])"
      ]
    },
    {
      "cell_type": "markdown",
      "metadata": {
        "id": "D8IlQWSKWXRB"
      },
      "source": [
        "# Calculate each term in G"
      ]
    },
    {
      "cell_type": "code",
      "execution_count": 7,
      "metadata": {
        "id": "B-d7DZVuWXRC"
      },
      "outputs": [],
      "source": [
        "L_f0_h = symbolic_derivatives.directional_derivative(h, x, f_0)\n",
        "L_f1_h = symbolic_derivatives.directional_derivative(h, x, f_1)\n",
        "#L_f1_f1_h = symbolic_derivatives.directional_derivative(L_f1_h, x, f_1)"
      ]
    },
    {
      "cell_type": "code",
      "source": [
        "L_f0_h"
      ],
      "metadata": {
        "id": "LB0Ke9HJXuJG",
        "outputId": "06ec1b03-628e-42a0-c13b-60dda4a32989",
        "colab": {
          "base_uri": "https://localhost:8080/",
          "height": 39
        }
      },
      "execution_count": 8,
      "outputs": [
        {
          "output_type": "execute_result",
          "data": {
            "text/plain": [
              "Matrix([[0]])"
            ],
            "text/latex": "$\\displaystyle \\left[\\begin{matrix}0\\end{matrix}\\right]$"
          },
          "metadata": {},
          "execution_count": 8
        }
      ]
<<<<<<< HEAD
     },
     "execution_count": 12,
     "metadata": {},
     "output_type": "execute_result"
    }
   ],
   "source": [
    "G.jacobian(x)"
   ]
  },
  {
   "cell_type": "markdown",
   "metadata": {},
   "source": [
    "# Plug in x0"
   ]
  },
  {
   "cell_type": "code",
   "execution_count": 13,
   "metadata": {},
   "outputs": [],
   "source": [
    "x0 = {g: 1, d: 2}"
   ]
  },
  {
   "cell_type": "code",
   "execution_count": 14,
   "metadata": {},
   "outputs": [
=======
    },
>>>>>>> 6575cbff4ceda6ad8851a08fd7cdb51a5a14e433
    {
      "cell_type": "code",
      "source": [
        "L_f1_h"
      ],
      "metadata": {
        "id": "t1SPIE-PXxn0",
        "outputId": "dabdd4a8-4260-4cb9-d846-51fd74f4a536",
        "colab": {
          "base_uri": "https://localhost:8080/",
          "height": 39
        }
      },
      "execution_count": 9,
      "outputs": [
        {
          "output_type": "execute_result",
          "data": {
            "text/plain": [
              "Matrix([[1/d]])"
            ],
            "text/latex": "$\\displaystyle \\left[\\begin{matrix}\\frac{1}{d}\\end{matrix}\\right]$"
          },
          "metadata": {},
          "execution_count": 9
        }
      ]
<<<<<<< HEAD
     },
     "execution_count": 14,
     "metadata": {},
     "output_type": "execute_result"
    }
   ],
   "source": [
    "G.jacobian(x).subs(x0)"
   ]
  },
  {
   "cell_type": "markdown",
   "metadata": {},
   "source": [
    "# Shortcut function to get G:"
   ]
  },
  {
   "cell_type": "markdown",
   "metadata": {},
   "source": [
    "### First derivatives"
   ]
  },
  {
   "cell_type": "code",
   "execution_count": 15,
   "metadata": {},
   "outputs": [
=======
    },
>>>>>>> 6575cbff4ceda6ad8851a08fd7cdb51a5a14e433
    {
      "cell_type": "markdown",
      "metadata": {
        "id": "HmSi6kJgWXRC"
      },
      "source": [
        "# Assemble G, take Jacobian"
      ]
<<<<<<< HEAD
     },
     "execution_count": 15,
     "metadata": {},
     "output_type": "execute_result"
    }
   ],
   "source": [
    "G1 =  symbolic_derivatives.get_bigO( h, \n",
    "                                    x, \n",
    "                                    [f_0, \n",
    "                                     f_1], \n",
    "                                   )\n",
    "G1"
   ]
  },
  {
   "cell_type": "markdown",
   "metadata": {},
   "source": [
    "### Second derivatives"
   ]
  },
  {
   "cell_type": "code",
   "execution_count": 16,
   "metadata": {},
   "outputs": [
    {
     "data": {
      "text/plain": [
       "[Matrix([\n",
       " [g/d],\n",
       " [  0],\n",
       " [1/d]]),\n",
       " Matrix([\n",
       " [0],\n",
       " [0],\n",
       " [0]]),\n",
       " Matrix([\n",
       " [1/d],\n",
       " [  0],\n",
       " [  0]])]"
      ]
     },
     "execution_count": 16,
     "metadata": {},
     "output_type": "execute_result"
    }
   ],
   "source": [
    "G2 =  symbolic_derivatives.get_bigO( sp.Matrix.vstack(*G1), \n",
    "                                    x, \n",
    "                                    [f_0, \n",
    "                                     f_1], \n",
    "                                   )\n",
    "G2"
   ]
  },
  {
   "cell_type": "code",
   "execution_count": 17,
   "metadata": {},
   "outputs": [
    {
     "data": {
      "text/latex": [
       "$\\displaystyle \\left[\\begin{matrix}\\frac{g}{d}\\\\0\\\\\\frac{1}{d}\\\\\\frac{g}{d}\\\\0\\\\\\frac{1}{d}\\\\0\\\\0\\\\0\\\\\\frac{1}{d}\\\\0\\\\0\\end{matrix}\\right]$"
      ],
      "text/plain": [
       "Matrix([\n",
       "[g/d],\n",
       "[  0],\n",
       "[1/d],\n",
       "[g/d],\n",
       "[  0],\n",
       "[1/d],\n",
       "[  0],\n",
       "[  0],\n",
       "[  0],\n",
       "[1/d],\n",
       "[  0],\n",
       "[  0]])"
      ]
     },
     "execution_count": 17,
     "metadata": {},
     "output_type": "execute_result"
=======
    },
    {
      "cell_type": "code",
      "execution_count": 10,
      "metadata": {
        "scrolled": true,
        "id": "v2TI7G9XWXRC"
      },
      "outputs": [],
      "source": [
        "G = sp.Matrix([h, L_f0_h, L_f1_h])"
      ]
    },
    {
      "cell_type": "code",
      "source": [
        "G"
      ],
      "metadata": {
        "id": "ydcZo7_fX3Jj",
        "outputId": "1ebe3ad3-2e4c-4e16-a3b9-3714e8ced9c3",
        "colab": {
          "base_uri": "https://localhost:8080/",
          "height": 78
        }
      },
      "execution_count": 11,
      "outputs": [
        {
          "output_type": "execute_result",
          "data": {
            "text/plain": [
              "Matrix([\n",
              "[g/d],\n",
              "[  0],\n",
              "[1/d]])"
            ],
            "text/latex": "$\\displaystyle \\left[\\begin{matrix}\\frac{g}{d}\\\\0\\\\\\frac{1}{d}\\end{matrix}\\right]$"
          },
          "metadata": {},
          "execution_count": 11
        }
      ]
    },
    {
      "cell_type": "code",
      "execution_count": 12,
      "metadata": {
        "id": "x6ST5FJIWXRC",
        "outputId": "18a075ba-f341-4a77-93c3-776f8dfd6aa9",
        "colab": {
          "base_uri": "https://localhost:8080/",
          "height": 78
        }
      },
      "outputs": [
        {
          "output_type": "execute_result",
          "data": {
            "text/plain": [
              "Matrix([\n",
              "[1/d, -g/d**2],\n",
              "[  0,       0],\n",
              "[  0, -1/d**2]])"
            ],
            "text/latex": "$\\displaystyle \\left[\\begin{matrix}\\frac{1}{d} & - \\frac{g}{d^{2}}\\\\0 & 0\\\\0 & - \\frac{1}{d^{2}}\\end{matrix}\\right]$"
          },
          "metadata": {},
          "execution_count": 12
        }
      ],
      "source": [
        "G.jacobian(x)"
      ]
    },
    {
      "cell_type": "markdown",
      "metadata": {
        "id": "kQvQZ1xpWXRC"
      },
      "source": [
        "# Plug in x0"
      ]
    },
    {
      "cell_type": "code",
      "execution_count": 13,
      "metadata": {
        "id": "JIz4kztyWXRC"
      },
      "outputs": [],
      "source": [
        "x0 = {g: 1, d: 2}"
      ]
    },
    {
      "cell_type": "code",
      "execution_count": 14,
      "metadata": {
        "id": "2ikPYOLfWXRC",
        "outputId": "e38b42ea-ce07-4ed6-9eec-1922473f2c9e",
        "colab": {
          "base_uri": "https://localhost:8080/",
          "height": 78
        }
      },
      "outputs": [
        {
          "output_type": "execute_result",
          "data": {
            "text/plain": [
              "Matrix([\n",
              "[1/2, -1/4],\n",
              "[  0,    0],\n",
              "[  0, -1/4]])"
            ],
            "text/latex": "$\\displaystyle \\left[\\begin{matrix}\\frac{1}{2} & - \\frac{1}{4}\\\\0 & 0\\\\0 & - \\frac{1}{4}\\end{matrix}\\right]$"
          },
          "metadata": {},
          "execution_count": 14
        }
      ],
      "source": [
        "G.jacobian(x).subs(x0)"
      ]
    },
    {
      "cell_type": "code",
      "source": [
        "G.jacobian(x).subs(x0).rank()"
      ],
      "metadata": {
        "id": "zmY-0dnLYJYU",
        "outputId": "445007af-aef7-4525-d58d-5681e3300f6f",
        "colab": {
          "base_uri": "https://localhost:8080/"
        }
      },
      "execution_count": 15,
      "outputs": [
        {
          "output_type": "execute_result",
          "data": {
            "text/plain": [
              "2"
            ]
          },
          "metadata": {},
          "execution_count": 15
        }
      ]
    },
    {
      "cell_type": "markdown",
      "metadata": {
        "id": "QfGgIGlyWXRD"
      },
      "source": [
        "# Shortcut function to get G:"
      ]
    },
    {
      "cell_type": "markdown",
      "metadata": {
        "id": "lw7B1XCFWXRD"
      },
      "source": [
        "### First derivatives"
      ]
    },
    {
      "cell_type": "code",
      "execution_count": 16,
      "metadata": {
        "id": "exWQHbZ1WXRD",
        "outputId": "6a1f4410-3f1c-4a34-e6ae-734d3b75974b",
        "colab": {
          "base_uri": "https://localhost:8080/"
        }
      },
      "outputs": [
        {
          "output_type": "execute_result",
          "data": {
            "text/plain": [
              "[Matrix([[g/d]]), Matrix([[0]]), Matrix([[1/d]])]"
            ]
          },
          "metadata": {},
          "execution_count": 16
        }
      ],
      "source": [
        "G1 =  symbolic_derivatives.get_bigO( h,\n",
        "                                    x,\n",
        "                                    [f_0,\n",
        "                                     f_1],\n",
        "                                   )\n",
        "G1"
      ]
    },
    {
      "cell_type": "markdown",
      "metadata": {
        "id": "Pmeyp5NGWXRD"
      },
      "source": [
        "### Second derivatives"
      ]
    },
    {
      "cell_type": "code",
      "execution_count": 17,
      "metadata": {
        "id": "DQ-Y_ZsyWXRD",
        "outputId": "420145f5-f895-4d35-909b-94b876a25a34",
        "colab": {
          "base_uri": "https://localhost:8080/"
        }
      },
      "outputs": [
        {
          "output_type": "execute_result",
          "data": {
            "text/plain": [
              "[Matrix([\n",
              " [g/d],\n",
              " [  0],\n",
              " [1/d]]),\n",
              " Matrix([\n",
              " [0],\n",
              " [0],\n",
              " [0]]),\n",
              " Matrix([\n",
              " [1/d],\n",
              " [  0],\n",
              " [  0]])]"
            ]
          },
          "metadata": {},
          "execution_count": 17
        }
      ],
      "source": [
        "G2 =  symbolic_derivatives.get_bigO( sp.Matrix.vstack(*G1),\n",
        "                                    x,\n",
        "                                    [f_0,\n",
        "                                     f_1],\n",
        "                                   )\n",
        "G2"
      ]
    },
    {
      "cell_type": "code",
      "execution_count": 18,
      "metadata": {
        "id": "qlFPp_PrWXRD",
        "outputId": "cd064270-0d90-49a5-b3f9-6944940d274f",
        "colab": {
          "base_uri": "https://localhost:8080/",
          "height": 261
        }
      },
      "outputs": [
        {
          "output_type": "execute_result",
          "data": {
            "text/plain": [
              "Matrix([\n",
              "[g/d],\n",
              "[  0],\n",
              "[1/d],\n",
              "[g/d],\n",
              "[  0],\n",
              "[1/d],\n",
              "[  0],\n",
              "[  0],\n",
              "[  0],\n",
              "[1/d],\n",
              "[  0],\n",
              "[  0]])"
            ],
            "text/latex": "$\\displaystyle \\left[\\begin{matrix}\\frac{g}{d}\\\\0\\\\\\frac{1}{d}\\\\\\frac{g}{d}\\\\0\\\\\\frac{1}{d}\\\\0\\\\0\\\\0\\\\\\frac{1}{d}\\\\0\\\\0\\end{matrix}\\right]$"
          },
          "metadata": {},
          "execution_count": 18
        }
      ],
      "source": [
        "G = sp.Matrix.vstack(*G1, *G2)\n",
        "G"
      ]
    },
    {
      "cell_type": "code",
      "execution_count": null,
      "metadata": {
        "id": "Rlol_eMyWXRD"
      },
      "outputs": [],
      "source": []
    }
  ],
  "metadata": {
    "kernelspec": {
      "display_name": "PY38",
      "language": "python",
      "name": "py38"
    },
    "language_info": {
      "codemirror_mode": {
        "name": "ipython",
        "version": 3
      },
      "file_extension": ".py",
      "mimetype": "text/x-python",
      "name": "python",
      "nbconvert_exporter": "python",
      "pygments_lexer": "ipython3",
      "version": "3.8.6"
    },
    "colab": {
      "provenance": []
>>>>>>> 6575cbff4ceda6ad8851a08fd7cdb51a5a14e433
    }
  },
<<<<<<< HEAD
  {
   "cell_type": "code",
   "execution_count": null,
   "metadata": {},
   "outputs": [],
   "source": []
  },
  {
   "cell_type": "code",
   "execution_count": null,
   "metadata": {},
   "outputs": [],
   "source": []
  },
  {
   "cell_type": "code",
   "execution_count": null,
   "metadata": {},
   "outputs": [],
   "source": []
  },
  {
   "cell_type": "code",
   "execution_count": null,
   "metadata": {},
   "outputs": [],
   "source": []
  },
  {
   "cell_type": "code",
   "execution_count": null,
   "metadata": {},
   "outputs": [],
   "source": []
  }
 ],
 "metadata": {
  "kernelspec": {
   "display_name": ".venv",
   "language": "python",
   "name": "python3"
  },
  "language_info": {
   "codemirror_mode": {
    "name": "ipython",
    "version": 3
   },
   "file_extension": ".py",
   "mimetype": "text/x-python",
   "name": "python",
   "nbconvert_exporter": "python",
   "pygments_lexer": "ipython3",
   "version": "3.10.12"
  }
 },
 "nbformat": 4,
 "nbformat_minor": 2
}
=======
  "nbformat": 4,
  "nbformat_minor": 0
}
>>>>>>> 6575cbff4ceda6ad8851a08fd7cdb51a5a14e433
